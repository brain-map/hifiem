{
 "cells": [
  {
   "cell_type": "markdown",
   "id": "c1905389",
   "metadata": {},
   "source": [
    "# Introduction\n",
    "\n",
    "This Jupyter notebook contains code and brief explanation of steps used in electron microscopy pre-processing pipeline.\n",
    "\n",
    "## Directory Structure\n",
    "\n",
    "The project directory is organized as follows:\n",
    "```\n",
    "├── data/ # Directory for storing the data files\n",
    "│ ├── 05600.tif # section 5600 of the aligned dataset used as the original data for pre-processing pipeline\n",
    "│ └── ...\n",
    "│\n",
    "├── python/ # Directory for python files containing python code for image processing algoritms\n",
    "│ ├── fltemd.py # python module containing main methods and algorithms\n",
    "│ ├── fltlib.py # python module containing helpers and utilities functions and classes \n",
    "│ └── ...\n",
    "│\n",
    "├── README.md # Project README file\n",
    "├── requirements.txt # List of project dependencies\n",
    "├── requirements.yml # yml-file for project environment\n",
    "├── LICENSE # License file for the project\n",
    "├── pipeline.ipynb # Jupyter notebook\n",
    "└── ...\n",
    "```\n",
    "\n",
    "## Files\n",
    "\n",
    "Here is a brief description of the main files in the project:\n",
    "\n",
    "- **data/**: This directory contains the data files used as input for different steps of pipeline\n",
    "\n",
    "- **python/**: This directory contains python modules, which provide methods and algorithms used in pre-processing pipeline. The `fltemd.py` covers image-processing methods and algorithms, while the `fltlib.py` provides more generic helpers and methods, including some helpers used in implementation of the full stack processing pipepline of Flatiron Cluster (*not covered by this notebook*).\n",
    "\n",
    "- **README.md**: This file provides an overview of the project, including its purpose, installation instructions, and usage guidelines.\n",
    "\n",
    "- **requirements.txt**: This file lists all the project dependencies, making it easier to set up the development environment.\n",
    "\n",
    "- **requirements.yml**: yml-file for project environment used by `conda update env` command\n",
    "\n",
    "- **LICENSE.txt**: This file contains the project's license information, specifying the terms and conditions for using the code.\n",
    "\n",
    "\n",
    "## Installing required packages\n",
    "\n",
    "Python modules in this project requires that the following packages are installed:\n",
    "```\n",
    "h5py>=3.6.0\n",
    "matplotlib>=3.4.2\n",
    "numpy>=1.20.3\n",
    "pillow>=8.3.1\n",
    "scikit-image>=0.18.1\n",
    "scikit-learn>=0.24.2\n",
    "scipy>=1.6.2\n",
    "opencv>=4.5.5\n",
    "```\n"
   ]
  },
  {
   "cell_type": "code",
   "execution_count": null,
   "id": "78c86142",
   "metadata": {},
   "outputs": [],
   "source": [
    "# prepare notebook constants and sys.path\n",
    "\n",
    "import sys, os\n",
    "\n",
    "PYTHON_PATH = os.path.realpath(os.path.join(\".\", \"python\"))\n",
    "DATA_PATH = os.path.realpath(os.path.join(\".\", \"data\"))\n",
    "\n",
    "# append our modules directory to the sys.path\n",
    "if PYTHON_PATH not in [os.path.realpath(path) for path in sys.path]:\n",
    "    sys.path.append(PYTHON_PATH)\n"
   ]
  },
  {
   "cell_type": "markdown",
   "id": "1f233a64",
   "metadata": {},
   "source": [
    "**Run next cell only if you want automatically install required packages**.\n",
    "\n",
    "You can skip the next cell if your environment already meets requirements"
   ]
  },
  {
   "cell_type": "code",
   "execution_count": null,
   "id": "56f9684d",
   "metadata": {},
   "outputs": [],
   "source": [
    "print(\"Install required packages\", end = \" \")\n",
    "\n",
    "if 'conda' in sys.version or 'Continuum' in sys.version:\n",
    "    print(\"under Conda.\")\n",
    "#    %conda install -y --file ./requirements.txt\n",
    "    %conda env update --file ./requirements.yml\n",
    "else:\n",
    "    print(\"under Python.\")\n",
    "    %pip install -r ./requirements.txt"
   ]
  },
  {
   "cell_type": "markdown",
   "id": "8c9ba1e3",
   "metadata": {},
   "source": [
    "import required methods and preset configuration used in this presentation"
   ]
  },
  {
   "cell_type": "code",
   "execution_count": null,
   "id": "3361ff4e",
   "metadata": {},
   "outputs": [],
   "source": [
    "import matplotlib.pyplot as plt, os, PIL, numpy as np, h5py\n",
    "from fltemd import deband_v_3_00 as run_deband, denoise_v_2_10 as run_denoise, \\\n",
    "                   adjust_histogram_v_3_02 as adjust_histogram\n",
    "from fltlib import struct, correct_section_background, load_polymodel\n",
    "\n",
    "from skimage.io import imread, imsave\n",
    "\n",
    "PIL.Image.MAX_IMAGE_PIXELS = None\n",
    "\n",
    "# %matplotlib qt\n",
    "# %matplotlib tk\n",
    "%matplotlib notebook\n",
    "\n",
    "tinfo = struct(shape = (11260, 9000, 13750), # contains volume shape in zyx-order\n",
    "               python_path = PYTHON_PATH,\n",
    "               data_path = DATA_PATH,\n",
    "               section_idx = 5600,\n",
    "               xbound = (4569.5, 1300), # xbound and tinfo.ybound are used to specify a displayed part of image\n",
    "               ybound = (927.5, 1000))\n",
    "#                xbound = (4069.5, 2600),\n",
    "#                ybound = (427.5, 2000))\n",
    "tinfo.image_file = f\"{tinfo.section_idx:05d}.tif\"\n",
    "\n",
    "def imshow(image, prctile = (2, 98), xbound = tinfo.xbound, ybound = tinfo.ybound):\n",
    "    if prctile is None:\n",
    "        vmin = vmax = None\n",
    "    else:\n",
    "        vmin, vmax = np.percentile(image, prctile)\n",
    " \n",
    "    fig = plt.figure()\n",
    "    aximage = plt.imshow(image, cmap=\"gray\", vmin = vmin, vmax = vmax)\n",
    "    plt.axis(\"off\")\n",
    "    ax = plt.gca()\n",
    "    ax.set_position((0, 0, 1.0, 1.0))\n",
    "    if not xbound is None:\n",
    "        ax.set_xbound(xbound[0], xbound[0] + xbound[1])\n",
    "    if not ybound is None:\n",
    "        ax.set_ybound(ybound[0], ybound[0] + ybound[1])\n",
    "    plt.show()\n"
   ]
  },
  {
   "cell_type": "markdown",
   "id": "4f04879e",
   "metadata": {},
   "source": [
    "Load raw image, invert and display a part of it"
   ]
  },
  {
   "cell_type": "code",
   "execution_count": null,
   "id": "29aaf34a",
   "metadata": {},
   "outputs": [],
   "source": [
    "raw_image = 65535 - imread(os.path.join(tinfo.data_path, tinfo.image_file))\n",
    "imshow(raw_image)"
   ]
  },
  {
   "cell_type": "markdown",
   "id": "c0cb9793",
   "metadata": {},
   "source": [
    "Run de-striping method"
   ]
  },
  {
   "cell_type": "code",
   "execution_count": null,
   "id": "e2b19d3d",
   "metadata": {},
   "outputs": [],
   "source": [
    "dbnd_image = run_deband(raw_image, direction = \"vertical\", scales = 6, adjust_beta = True,\n",
    "                        details = {\"start\" : 2.1, \"end\" : 1.5, \"middle\" : 0.6, \"mul\" : 20, \"len\" : 187 },\n",
    "                        destripe = [{ \"method\" : \"predict\", \"bands_len\" : 161, \"mask_len\" :  5, \"max_angle\" : 4.8, \"max_ratio\" : 0.3, \"thresh_mul\" : 1.67 },\n",
    "                                    { \"method\" : \"predict\", \"bands_len\" : 161, \"mask_len\" :  9, \"max_angle\" : 4.8, \"max_ratio\" : 0.3 },\n",
    "                                    { \"method\" : \"predict\", \"bands_len\" : 161, \"mask_len\" : 13, \"max_angle\" : 4.8, \"max_ratio\" : 0.3 },\n",
    "                                    { \"method\" : \"predict\", \"bands_len\" : 201, \"mask_len\" : 19, \"max_angle\" : 4.8, \"max_ratio\" : 0.3 },\n",
    "                                    { \"method\" : \"predict\", \"bands_len\" : 251, \"mask_len\" : 43, \"max_angle\" : 4.8, \"max_ratio\" : 0.3 },\n",
    "                                    { \"method\" : \"predict\", \"bands_len\" : 301, \"mask_len\" : 75, \"max_angle\" : 4.8, \"max_ratio\" : 0.3 }],\n",
    "                        verbose = True)\n",
    "imshow(dbnd_image)"
   ]
  },
  {
   "cell_type": "markdown",
   "id": "f4d7ba19",
   "metadata": {},
   "source": [
    "To adjust section intensity and correct the background, use the provided files `info.h5` and `polymodel.h5`. These files contain externally calculated information for the entire stack, and the methodology described in our article explains the process in detail. Please note that this package does not include code for calculating the correction information; we only provide the code for applying the externally calculated information to individual sections of the image. Computational operations on a cluster, which are required for creation of `info.h5` and `polymodel.h5` are not covered by this package."
   ]
  },
  {
   "cell_type": "code",
   "execution_count": null,
   "id": "33eb0c53",
   "metadata": {},
   "outputs": [],
   "source": [
    "# correct intensity and background\n",
    "\n",
    "tinfo.polymodel = load_polymodel(os.path.join(tinfo.data_path, \"polymodel.h5\"))\n",
    "with h5py.File(os.path.join(tinfo.data_path, \"info.h5\"), mode = \"r\") as hfile:\n",
    "    tinfo.intensity_correct = hfile[\"offset\"][tinfo.section_idx]\n",
    "\n",
    "corr_image, bwflat = correct_section_background(dbnd_image, \n",
    "                                                tinfo.shape, \n",
    "                                                intensity_shift = tinfo.intensity_correct,\n",
    "                                                polymodel = tinfo.polymodel, \n",
    "                                                pos = (tinfo.section_idx, 0, 0))\n",
    "imshow(corr_image)"
   ]
  },
  {
   "cell_type": "markdown",
   "id": "0281c933",
   "metadata": {},
   "source": [
    "The next step is to run denoising and contrast adjustment methods to generate the final image. The final image is stretched to utilize the full target intensity range (0-255)."
   ]
  },
  {
   "cell_type": "code",
   "execution_count": null,
   "id": "ddc7ede7",
   "metadata": {},
   "outputs": [],
   "source": [
    "# denoise and contrast adjustment\n",
    "import warnings\n",
    "# Filter out the specific warning\n",
    "warnings.filterwarnings(\"ignore\", category=RuntimeWarning, message=\"overflow encountered in exp\")\n",
    "\n",
    "dnse_image = run_denoise(corr_image, \n",
    "                         sigmoid_params = [{\"gain\": 3.418e-6, \"offset\": -1.123}, \n",
    "                                           {\"gain\": 4.114e-6, \"offset\": 4.394}],\n",
    "                         ndims = None, scales = 1, wsize = 7, split_hipass = True, propagate_noise = True)\n",
    "\n",
    "final_image = adjust_histogram(dnse_image, drange = 255, dtype = np.uint8, bwmask = None, smoothing = 501,\n",
    "                               method = \"image\", sigma = 2000.0, offset = -2000.0, ratio = 2, minmax_size = 5,\n",
    "                               clip = [-0.8, 0.8], redistribute = \"leftmost\", hp_sigma = 1250,\n",
    "                               mean = 28000, save_memory = True)\n",
    "imshow(final_image, None)"
   ]
  }
 ],
 "metadata": {
  "celltoolbar": "Raw Cell Format",
  "kernelspec": {
   "display_name": "Python 3",
   "language": "python",
   "name": "python3"
  },
  "language_info": {
   "codemirror_mode": {
    "name": "ipython",
    "version": 3
   },
   "file_extension": ".py",
   "mimetype": "text/x-python",
   "name": "python",
   "nbconvert_exporter": "python",
   "pygments_lexer": "ipython3",
   "version": "3.8.12"
  }
 },
 "nbformat": 4,
 "nbformat_minor": 5
}
